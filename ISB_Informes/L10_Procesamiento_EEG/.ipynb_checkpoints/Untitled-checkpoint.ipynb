{
 "cells": [
  {
   "cell_type": "code",
   "execution_count": 3,
   "id": "6ebf72ea-e866-4643-83d0-ad1e17744d4f",
   "metadata": {},
   "outputs": [
    {
     "name": "stdout",
     "output_type": "stream",
     "text": [
      "Collecting mne\n",
      "  Downloading mne-1.6.1-py3-none-any.whl.metadata (13 kB)\n",
      "Requirement already satisfied: numpy>=1.21.2 in c:\\users\\equipo\\anaconda3\\envs\\introduccion_imagenes_y_senales\\lib\\site-packages (from mne) (1.22.2)\n",
      "Requirement already satisfied: scipy>=1.7.1 in c:\\users\\equipo\\anaconda3\\envs\\introduccion_imagenes_y_senales\\lib\\site-packages (from mne) (1.8.1)\n",
      "Requirement already satisfied: matplotlib>=3.5.0 in c:\\users\\equipo\\anaconda3\\envs\\introduccion_imagenes_y_senales\\lib\\site-packages (from mne) (3.7.5)\n",
      "Collecting tqdm (from mne)\n",
      "  Downloading tqdm-4.66.4-py3-none-any.whl.metadata (57 kB)\n",
      "     ---------------------------------------- 0.0/57.6 kB ? eta -:--:--\n",
      "     ---------------------------------------- 57.6/57.6 kB 1.5 MB/s eta 0:00:00\n",
      "Collecting pooch>=1.5 (from mne)\n",
      "  Downloading pooch-1.8.2-py3-none-any.whl.metadata (10 kB)\n",
      "Requirement already satisfied: decorator in c:\\users\\equipo\\anaconda3\\envs\\introduccion_imagenes_y_senales\\lib\\site-packages (from mne) (5.1.1)\n",
      "Requirement already satisfied: packaging in c:\\users\\equipo\\anaconda3\\envs\\introduccion_imagenes_y_senales\\lib\\site-packages (from mne) (23.2)\n",
      "Requirement already satisfied: jinja2 in c:\\users\\equipo\\anaconda3\\envs\\introduccion_imagenes_y_senales\\lib\\site-packages (from mne) (3.1.3)\n",
      "Collecting lazy-loader>=0.3 (from mne)\n",
      "  Downloading lazy_loader-0.4-py3-none-any.whl.metadata (7.6 kB)\n",
      "Requirement already satisfied: importlib-resources>=5.10.2 in c:\\users\\equipo\\anaconda3\\envs\\introduccion_imagenes_y_senales\\lib\\site-packages (from mne) (6.1.1)\n",
      "Requirement already satisfied: zipp>=3.1.0 in c:\\users\\equipo\\anaconda3\\envs\\introduccion_imagenes_y_senales\\lib\\site-packages (from importlib-resources>=5.10.2->mne) (3.17.0)\n",
      "Requirement already satisfied: contourpy>=1.0.1 in c:\\users\\equipo\\anaconda3\\envs\\introduccion_imagenes_y_senales\\lib\\site-packages (from matplotlib>=3.5.0->mne) (1.1.1)\n",
      "Requirement already satisfied: cycler>=0.10 in c:\\users\\equipo\\anaconda3\\envs\\introduccion_imagenes_y_senales\\lib\\site-packages (from matplotlib>=3.5.0->mne) (0.12.1)\n",
      "Requirement already satisfied: fonttools>=4.22.0 in c:\\users\\equipo\\anaconda3\\envs\\introduccion_imagenes_y_senales\\lib\\site-packages (from matplotlib>=3.5.0->mne) (4.52.1)\n",
      "Requirement already satisfied: kiwisolver>=1.0.1 in c:\\users\\equipo\\anaconda3\\envs\\introduccion_imagenes_y_senales\\lib\\site-packages (from matplotlib>=3.5.0->mne) (1.4.5)\n",
      "Requirement already satisfied: pillow>=6.2.0 in c:\\users\\equipo\\anaconda3\\envs\\introduccion_imagenes_y_senales\\lib\\site-packages (from matplotlib>=3.5.0->mne) (10.3.0)\n",
      "Requirement already satisfied: pyparsing>=2.3.1 in c:\\users\\equipo\\anaconda3\\envs\\introduccion_imagenes_y_senales\\lib\\site-packages (from matplotlib>=3.5.0->mne) (3.1.2)\n",
      "Requirement already satisfied: python-dateutil>=2.7 in c:\\users\\equipo\\anaconda3\\envs\\introduccion_imagenes_y_senales\\lib\\site-packages (from matplotlib>=3.5.0->mne) (2.9.0.post0)\n",
      "Requirement already satisfied: platformdirs>=2.5.0 in c:\\users\\equipo\\anaconda3\\envs\\introduccion_imagenes_y_senales\\lib\\site-packages (from pooch>=1.5->mne) (3.10.0)\n",
      "Requirement already satisfied: requests>=2.19.0 in c:\\users\\equipo\\anaconda3\\envs\\introduccion_imagenes_y_senales\\lib\\site-packages (from pooch>=1.5->mne) (2.31.0)\n",
      "Requirement already satisfied: MarkupSafe>=2.0 in c:\\users\\equipo\\anaconda3\\envs\\introduccion_imagenes_y_senales\\lib\\site-packages (from jinja2->mne) (2.1.3)\n",
      "Requirement already satisfied: colorama in c:\\users\\equipo\\anaconda3\\envs\\introduccion_imagenes_y_senales\\lib\\site-packages (from tqdm->mne) (0.4.6)\n",
      "Requirement already satisfied: six>=1.5 in c:\\users\\equipo\\anaconda3\\envs\\introduccion_imagenes_y_senales\\lib\\site-packages (from python-dateutil>=2.7->matplotlib>=3.5.0->mne) (1.16.0)\n",
      "Requirement already satisfied: charset-normalizer<4,>=2 in c:\\users\\equipo\\anaconda3\\envs\\introduccion_imagenes_y_senales\\lib\\site-packages (from requests>=2.19.0->pooch>=1.5->mne) (2.0.4)\n",
      "Requirement already satisfied: idna<4,>=2.5 in c:\\users\\equipo\\anaconda3\\envs\\introduccion_imagenes_y_senales\\lib\\site-packages (from requests>=2.19.0->pooch>=1.5->mne) (3.7)\n",
      "Requirement already satisfied: urllib3<3,>=1.21.1 in c:\\users\\equipo\\anaconda3\\envs\\introduccion_imagenes_y_senales\\lib\\site-packages (from requests>=2.19.0->pooch>=1.5->mne) (2.2.1)\n",
      "Requirement already satisfied: certifi>=2017.4.17 in c:\\users\\equipo\\anaconda3\\envs\\introduccion_imagenes_y_senales\\lib\\site-packages (from requests>=2.19.0->pooch>=1.5->mne) (2024.2.2)\n",
      "Downloading mne-1.6.1-py3-none-any.whl (8.3 MB)\n",
      "   ---------------------------------------- 0.0/8.3 MB ? eta -:--:--\n",
      "   -- ------------------------------------- 0.5/8.3 MB 9.8 MB/s eta 0:00:01\n",
      "   ---- ----------------------------------- 1.0/8.3 MB 10.7 MB/s eta 0:00:01\n",
      "   ------- -------------------------------- 1.5/8.3 MB 10.8 MB/s eta 0:00:01\n",
      "   ---------- ----------------------------- 2.1/8.3 MB 11.0 MB/s eta 0:00:01\n",
      "   ------------ --------------------------- 2.6/8.3 MB 11.2 MB/s eta 0:00:01\n",
      "   --------------- ------------------------ 3.2/8.3 MB 11.1 MB/s eta 0:00:01\n",
      "   ----------------- ---------------------- 3.7/8.3 MB 11.2 MB/s eta 0:00:01\n",
      "   --------------------- ------------------ 4.4/8.3 MB 11.7 MB/s eta 0:00:01\n",
      "   ------------------------ --------------- 5.1/8.3 MB 11.7 MB/s eta 0:00:01\n",
      "   ---------------------------- ----------- 5.9/8.3 MB 11.7 MB/s eta 0:00:01\n",
      "   ------------------------------ --------- 6.4/8.3 MB 11.7 MB/s eta 0:00:01\n",
      "   --------------------------------- ------ 6.9/8.3 MB 11.6 MB/s eta 0:00:01\n",
      "   ------------------------------------ --- 7.5/8.3 MB 11.6 MB/s eta 0:00:01\n",
      "   -------------------------------------- - 8.0/8.3 MB 11.6 MB/s eta 0:00:01\n",
      "   ---------------------------------------  8.3/8.3 MB 11.7 MB/s eta 0:00:01\n",
      "   ---------------------------------------  8.3/8.3 MB 11.7 MB/s eta 0:00:01\n",
      "   ---------------------------------------- 8.3/8.3 MB 10.0 MB/s eta 0:00:00\n",
      "Downloading lazy_loader-0.4-py3-none-any.whl (12 kB)\n",
      "Downloading pooch-1.8.2-py3-none-any.whl (64 kB)\n",
      "   ---------------------------------------- 0.0/64.6 kB ? eta -:--:--\n",
      "   ---------------------------------------- 64.6/64.6 kB 3.4 MB/s eta 0:00:00\n",
      "Downloading tqdm-4.66.4-py3-none-any.whl (78 kB)\n",
      "   ---------------------------------------- 0.0/78.3 kB ? eta -:--:--\n",
      "   ---------------------------------------- 78.3/78.3 kB ? eta 0:00:00\n",
      "Installing collected packages: tqdm, lazy-loader, pooch, mne\n",
      "Successfully installed lazy-loader-0.4 mne-1.6.1 pooch-1.8.2 tqdm-4.66.4\n",
      "Note: you may need to restart the kernel to use updated packages.\n"
     ]
    }
   ],
   "source": [
    "pip install mne\n"
   ]
  },
  {
   "cell_type": "code",
   "execution_count": 8,
   "id": "84d8a43b-bf65-4a6a-af93-042f910b456f",
   "metadata": {},
   "outputs": [
    {
     "ename": "SyntaxError",
     "evalue": "EOL while scanning string literal (3985310000.py, line 6)",
     "output_type": "error",
     "traceback": [
      "\u001b[1;36m  Cell \u001b[1;32mIn[8], line 6\u001b[1;36m\u001b[0m\n\u001b[1;33m    carpeta_edf = \"C:/Users/Equipo/OneDrive/Escritorio/Introduccion_a_señales_biomedicas/Github/inb_2024_gh12/ISB_Informes//L10_Procesamiento_EEG/Datos_EEG_physionet/Subject21_1.edf'\u001b[0m\n\u001b[1;37m                                                                                                                                                                                      ^\u001b[0m\n\u001b[1;31mSyntaxError\u001b[0m\u001b[1;31m:\u001b[0m EOL while scanning string literal\n"
     ]
    }
   ],
   "source": [
    "import os\n",
    "import mne\n",
    "\n",
    "# Ruta de la carpeta que contiene los archivos EDF\n",
    "carpeta_edf = \"C:/Users/Equipo/OneDrive/Escritorio/Introduccion_a_señales_biomedicas/Github/inb_2024_gh12/ISB_Informes/L10_Procesamiento_EEG/Datos_EEG_physionet\"\n",
    "\n",
    "# Obtener la lista de archivos EDF en la carpeta\n",
    "archivos_edf = [archivo for archivo in os.listdir(carpeta_edf) if archivo.endswith('.edf')]\n",
    "\n",
    "# Iterar sobre cada archivo EDF\n",
    "for archivo_edf in archivos_edf:\n",
    "    # Ruta completa del archivo EDF\n",
    "    ruta_edf = os.path.join(carpeta_edf, archivo_edf)\n",
    "    \n",
    "    try:\n",
    "        # Leer el archivo EDF\n",
    "        raw = mne.io.read_raw_edf(ruta_edf, preload=True)\n",
    "        \n",
    "        # Ruta del archivo FIF de salida\n",
    "        ruta_fif = os.path.splitext(ruta_edf)[0] + '.fif'\n",
    "        \n",
    "        # Guardar los datos en formato FIF\n",
    "        raw.save(ruta_fif, overwrite=True)\n",
    "        \n",
    "        print(f\"Archivo convertido: {archivo_edf} -> {os.path.basename(ruta_fif)}\")\n",
    "    \n",
    "    except Exception as e:\n",
    "        print(f\"Error al procesar el archivo {archivo_edf}: {str(e)}\")\n"
   ]
  }
 ],
 "metadata": {
  "kernelspec": {
   "display_name": "Python 3 (ipykernel)",
   "language": "python",
   "name": "python3"
  },
  "language_info": {
   "codemirror_mode": {
    "name": "ipython",
    "version": 3
   },
   "file_extension": ".py",
   "mimetype": "text/x-python",
   "name": "python",
   "nbconvert_exporter": "python",
   "pygments_lexer": "ipython3",
   "version": "3.8.19"
  }
 },
 "nbformat": 4,
 "nbformat_minor": 5
}
